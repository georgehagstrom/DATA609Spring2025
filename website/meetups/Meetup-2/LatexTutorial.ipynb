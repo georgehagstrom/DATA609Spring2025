{
 "cells": [
  {
   "cell_type": "markdown",
   "id": "05cbaca1-fffc-4f08-b381-9c3edc3550cd",
   "metadata": {},
   "source": [
    "## This is a markdown cell\n",
    "\n",
    "Here is a math expression \n",
    "$$ \n",
    "x+1 = 0\n",
    "$$\n",
    "\n",
    "\n",
    "\n"
   ]
  },
  {
   "cell_type": "markdown",
   "id": "02d936b9-401b-4066-a69f-82f6f702c6f7",
   "metadata": {},
   "source": [
    "Here is a more complex\n",
    "\n",
    "$$ \n",
    "x^2_0 + y_1 = 0\n",
    "$$\n",
    "\n",
    "Here is how you exert greater control over the sub and superscripts\n",
    "\n",
    "$$\n",
    "x^{2y_1-2}_{opt}\n",
    "$$\n",
    "\n",
    "\n"
   ]
  },
  {
   "cell_type": "markdown",
   "id": "25f7febf-23f1-468e-9757-84c850b8dba4",
   "metadata": {},
   "source": [
    "Here is how we do a sum\n",
    "\n",
    "$$\n",
    "\\sum_{i=1}^{100} x_i\n",
    "$$\n",
    "\n",
    "\n",
    "\n"
   ]
  },
  {
   "cell_type": "markdown",
   "id": "99b6ce69-2c70-40c0-8ed9-6583e3846b64",
   "metadata": {},
   "source": [
    "Here is how to write an integral:\n",
    "\n",
    "$$\n",
    "\\int_{0}^{\\infty} dx \\exp(-x^2)\n",
    "$$\n",
    "\n",
    "\n",
    "$$\n",
    "\\int_{0}^{\\infty} dx e^{-x^2}\n",
    "$$\n"
   ]
  },
  {
   "cell_type": "markdown",
   "id": "b9c817c2-2fe4-4ca0-967a-ab5f8af9bb40",
   "metadata": {},
   "source": [
    "$$\n",
    "f(x,y) = \\frac{\\sin(xy) }{1 + \\exp(x+y) }\n",
    "$$"
   ]
  },
  {
   "cell_type": "markdown",
   "id": "df3168d1-199e-481d-b932-90e6498c9b71",
   "metadata": {},
   "source": [
    "$$\n",
    "f(x,y) = x + y^2\n",
    "$$\n",
    "\n",
    "$$\n",
    "\\frac{\\partial f}{\\partial x} = 1\n",
    "$$\n",
    "\n",
    "$$\n",
    "\\frac{\\partial f}{\\partial y} = 2y\n",
    "$$"
   ]
  },
  {
   "cell_type": "markdown",
   "id": "c59294bc-ba9f-40f7-869d-42a275877d87",
   "metadata": {},
   "source": [
    "$$\n",
    "\\nabla f \n",
    "$$"
   ]
  },
  {
   "cell_type": "markdown",
   "id": "e570811c-8ae4-46b3-85fc-4457921689e9",
   "metadata": {},
   "source": [
    "$$\n",
    "\\nabla f = \\begin{bmatrix}   \\frac{\\partial f}{\\partial x} & \\frac{\\partial f}{\\partial y}\n",
    "\\end{bmatrix} ^T\n",
    "$$\n",
    "\n",
    "$$\n",
    "\\nabla f = \\begin{bmatrix}   \\frac{\\partial f}{\\partial x} \\\\ \\frac{\\partial f}{\\partial y}\n",
    "\\end{bmatrix}\n",
    "$$\n"
   ]
  },
  {
   "cell_type": "markdown",
   "id": "fb1770f2-4682-4dba-af35-9694d47b5668",
   "metadata": {},
   "source": [
    "The Identity in 3D\n",
    "\n",
    "$$\n",
    "I = \\begin{bmatrix} 1 & 0 & 0 \\\\\n",
    "                    0 & 1 & 0 \\\\\n",
    "                    0 & 0 & 1\n",
    "    \\end{bmatrix}\n",
    "$$\n"
   ]
  },
  {
   "cell_type": "code",
   "execution_count": null,
   "id": "9131a886-cc9b-4ef6-81a5-53ca2abc3b33",
   "metadata": {},
   "outputs": [],
   "source": []
  }
 ],
 "metadata": {
  "kernelspec": {
   "display_name": "Python 3 (ipykernel)",
   "language": "python",
   "name": "python3"
  },
  "language_info": {
   "codemirror_mode": {
    "name": "ipython",
    "version": 3
   },
   "file_extension": ".py",
   "mimetype": "text/x-python",
   "name": "python",
   "nbconvert_exporter": "python",
   "pygments_lexer": "ipython3",
   "version": "3.11.6"
  }
 },
 "nbformat": 4,
 "nbformat_minor": 5
}
