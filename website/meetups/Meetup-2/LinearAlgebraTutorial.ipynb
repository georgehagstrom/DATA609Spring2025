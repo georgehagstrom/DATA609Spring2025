{
 "cells": [
  {
   "cell_type": "code",
   "execution_count": 2,
   "id": "40e5e336-19ae-408e-aaf3-7a63676f6594",
   "metadata": {},
   "outputs": [],
   "source": [
    "import numpy as np\n"
   ]
  },
  {
   "cell_type": "code",
   "execution_count": 14,
   "id": "6c72ad17-5677-4bec-9021-31ec79645f28",
   "metadata": {},
   "outputs": [],
   "source": [
    "a = np.random.randn(10,10)\n",
    "b= np.random.randn(10)"
   ]
  },
  {
   "cell_type": "code",
   "execution_count": 17,
   "id": "6893cf4d-7d2e-4839-88cc-53ab18bff432",
   "metadata": {},
   "outputs": [
    {
     "data": {
      "text/plain": [
       "array([-0.63269674, -1.32769635, -0.09029985, -3.52182299, -6.03363023,\n",
       "        3.01976296, -2.75007156,  0.22389647, -1.55148195, -1.62650482])"
      ]
     },
     "execution_count": 17,
     "metadata": {},
     "output_type": "execute_result"
    }
   ],
   "source": [
    "a @ b"
   ]
  },
  {
   "cell_type": "code",
   "execution_count": 20,
   "id": "20a35607-dbc0-46fd-8d6e-5af3b6fc194e",
   "metadata": {},
   "outputs": [
    {
     "data": {
      "text/plain": [
       "array([-0.63269674, -1.32769635, -0.09029985, -3.52182299, -6.03363023,\n",
       "        3.01976296, -2.75007156,  0.22389647, -1.55148195, -1.62650482])"
      ]
     },
     "execution_count": 20,
     "metadata": {},
     "output_type": "execute_result"
    }
   ],
   "source": [
    "b.T @ a.T"
   ]
  },
  {
   "cell_type": "code",
   "execution_count": 22,
   "id": "77c83b94-4a7b-4b5a-9128-1979ea4f06f7",
   "metadata": {},
   "outputs": [
    {
     "data": {
      "text/plain": [
       "array([[1., 0., 0., 0., 0., 0., 0., 0., 0., 0.],\n",
       "       [0., 1., 0., 0., 0., 0., 0., 0., 0., 0.],\n",
       "       [0., 0., 1., 0., 0., 0., 0., 0., 0., 0.],\n",
       "       [0., 0., 0., 1., 0., 0., 0., 0., 0., 0.],\n",
       "       [0., 0., 0., 0., 1., 0., 0., 0., 0., 0.],\n",
       "       [0., 0., 0., 0., 0., 1., 0., 0., 0., 0.],\n",
       "       [0., 0., 0., 0., 0., 0., 1., 0., 0., 0.],\n",
       "       [0., 0., 0., 0., 0., 0., 0., 1., 0., 0.],\n",
       "       [0., 0., 0., 0., 0., 0., 0., 0., 1., 0.],\n",
       "       [0., 0., 0., 0., 0., 0., 0., 0., 0., 1.]])"
      ]
     },
     "execution_count": 22,
     "metadata": {},
     "output_type": "execute_result"
    }
   ],
   "source": [
    "np.eye(10)"
   ]
  },
  {
   "cell_type": "code",
   "execution_count": 25,
   "id": "5a6af5c6-cc0a-4ccb-95ce-85715e11808e",
   "metadata": {},
   "outputs": [
    {
     "data": {
      "text/plain": [
       "array([[1., 1., 1., 1., 1., 1., 1., 1., 1., 1.],\n",
       "       [1., 1., 1., 1., 1., 1., 1., 1., 1., 1.],\n",
       "       [1., 1., 1., 1., 1., 1., 1., 1., 1., 1.],\n",
       "       [1., 1., 1., 1., 1., 1., 1., 1., 1., 1.],\n",
       "       [1., 1., 1., 1., 1., 1., 1., 1., 1., 1.],\n",
       "       [1., 1., 1., 1., 1., 1., 1., 1., 1., 1.],\n",
       "       [1., 1., 1., 1., 1., 1., 1., 1., 1., 1.],\n",
       "       [1., 1., 1., 1., 1., 1., 1., 1., 1., 1.],\n",
       "       [1., 1., 1., 1., 1., 1., 1., 1., 1., 1.],\n",
       "       [1., 1., 1., 1., 1., 1., 1., 1., 1., 1.]])"
      ]
     },
     "execution_count": 25,
     "metadata": {},
     "output_type": "execute_result"
    }
   ],
   "source": [
    "np.ones((10,10))\n"
   ]
  },
  {
   "cell_type": "code",
   "execution_count": 28,
   "id": "1c755202-15e8-44ce-8b56-dc5120175764",
   "metadata": {},
   "outputs": [
    {
     "data": {
      "text/plain": [
       "array([[ 1.00000000e+00, -3.65595152e-16, -1.37241160e-16,\n",
       "        -1.67938840e-15,  9.33527437e-16,  1.44199349e-15,\n",
       "         1.15089786e-16, -1.55696214e-15,  1.11022302e-15,\n",
       "        -2.63677968e-16],\n",
       "       [ 1.26550255e-15,  1.00000000e+00, -2.68494358e-16,\n",
       "         1.42303383e-15, -9.79693103e-16, -4.51521472e-15,\n",
       "         2.63044668e-15,  1.74407151e-15, -2.66453526e-15,\n",
       "         4.44089210e-16],\n",
       "       [-1.64423122e-15, -1.66173972e-16,  1.00000000e+00,\n",
       "         2.75288470e-15,  1.74102465e-16,  1.54544175e-15,\n",
       "        -2.79739957e-15, -2.04740762e-15,  0.00000000e+00,\n",
       "         8.88178420e-16],\n",
       "       [-3.51858931e-16,  6.23676926e-17,  2.66458886e-16,\n",
       "         1.00000000e+00,  9.38263196e-17,  2.61301662e-16,\n",
       "         2.45064178e-16, -1.53357911e-16,  4.44089210e-16,\n",
       "        -4.44089210e-16],\n",
       "       [ 7.84703105e-16, -1.04920005e-15,  4.13020606e-16,\n",
       "        -2.12483741e-15,  1.00000000e+00, -4.53483867e-15,\n",
       "         4.18017106e-15,  1.71820802e-15,  0.00000000e+00,\n",
       "         0.00000000e+00],\n",
       "       [ 9.37535921e-16,  3.43043467e-16,  9.65347805e-17,\n",
       "         6.68706576e-16, -4.20016708e-16,  1.00000000e+00,\n",
       "        -1.09267442e-15,  1.01169627e-16,  0.00000000e+00,\n",
       "         4.44089210e-16],\n",
       "       [-8.71025446e-16,  1.09123436e-15, -7.64517688e-16,\n",
       "         9.73897302e-16, -6.40358430e-16,  3.68586912e-15,\n",
       "         1.00000000e+00, -1.54120216e-15,  0.00000000e+00,\n",
       "         8.88178420e-16],\n",
       "       [ 2.86959469e-15,  2.45431198e-16,  5.06260913e-16,\n",
       "        -5.81240373e-16, -5.42632247e-16, -2.38411883e-15,\n",
       "         1.09159912e-15,  1.00000000e+00, -8.88178420e-16,\n",
       "        -4.44089210e-16],\n",
       "       [-3.57782462e-17, -5.09336718e-16,  7.90198623e-16,\n",
       "        -2.53964484e-15, -7.71687051e-17, -1.71387168e-15,\n",
       "         1.28935306e-15,  1.41638585e-15,  1.00000000e+00,\n",
       "        -8.88178420e-16],\n",
       "       [-5.10166112e-16,  3.36418889e-16,  3.54329540e-16,\n",
       "        -1.34491999e-15, -3.29604245e-16, -7.44603616e-16,\n",
       "         1.18536447e-15,  5.30313254e-16,  4.44089210e-16,\n",
       "         1.00000000e+00]])"
      ]
     },
     "execution_count": 28,
     "metadata": {},
     "output_type": "execute_result"
    }
   ],
   "source": [
    "np.linalg.inv(a) @ a"
   ]
  },
  {
   "cell_type": "code",
   "execution_count": 34,
   "id": "080ef54a-c4ae-4303-98a3-9b58184cbb1d",
   "metadata": {},
   "outputs": [
    {
     "data": {
      "text/plain": [
       "array([[ 0.28383114,  0.13031739,  0.08488282,  0.26915419, -0.05833712,\n",
       "        -0.55745972,  0.04622785,  0.52583554, -0.47933131, -0.01565541],\n",
       "       [-0.7299212 ,  0.04346431, -0.15481374,  0.1199476 ,  0.28639583,\n",
       "        -0.35620311,  0.24101023, -0.22640736, -0.21810744, -0.24728702],\n",
       "       [ 0.07621821,  0.43546203,  0.2088927 ,  0.28230896, -0.17741055,\n",
       "        -0.17934521,  0.42879952, -0.01233035,  0.62390845, -0.21049244],\n",
       "       [-0.39305518,  0.11448225,  0.09008748,  0.41564326, -0.41297868,\n",
       "         0.10835773, -0.0692628 , -0.00268073, -0.05982432,  0.67885942],\n",
       "       [ 0.06933558,  0.34860056, -0.39022658,  0.26430987, -0.41367073,\n",
       "         0.19057494, -0.35422431, -0.22534478, -0.22225331, -0.46737544],\n",
       "       [-0.05118823, -0.68217798, -0.03157757,  0.58681909,  0.00875722,\n",
       "         0.07532819, -0.10790011,  0.20278167,  0.24018863, -0.26543311],\n",
       "       [ 0.31944117, -0.2503526 , -0.62925149,  0.04300488, -0.15611409,\n",
       "        -0.20160406,  0.45924193, -0.30071194, -0.00703338,  0.26660451],\n",
       "       [ 0.25406731,  0.17492689,  0.15182522,  0.44334045,  0.50247181,\n",
       "         0.45816405,  0.28794845, -0.19810239, -0.31166484,  0.05968817],\n",
       "       [ 0.22725739, -0.10877031,  0.36247981,  0.15032739,  0.06499115,\n",
       "        -0.45411298, -0.38287566, -0.64660084,  0.0248702 ,  0.08237576],\n",
       "       [ 0.02620891,  0.29393688, -0.46195436,  0.15967492,  0.51017133,\n",
       "        -0.14029136, -0.41663193,  0.18003309,  0.35346832,  0.25124871]])"
      ]
     },
     "execution_count": 34,
     "metadata": {},
     "output_type": "execute_result"
    }
   ],
   "source": [
    "np.linalg.svd(a).Vh"
   ]
  },
  {
   "cell_type": "code",
   "execution_count": 40,
   "id": "a81b4065-3a9a-4a87-bb18-310605ca878a",
   "metadata": {},
   "outputs": [
    {
     "data": {
      "text/plain": [
       "\u001b[0;31mSignature:\u001b[0m       \u001b[0mnp\u001b[0m\u001b[0;34m.\u001b[0m\u001b[0mdiagonal\u001b[0m\u001b[0;34m(\u001b[0m\u001b[0ma\u001b[0m\u001b[0;34m,\u001b[0m \u001b[0moffset\u001b[0m\u001b[0;34m=\u001b[0m\u001b[0;36m0\u001b[0m\u001b[0;34m,\u001b[0m \u001b[0maxis1\u001b[0m\u001b[0;34m=\u001b[0m\u001b[0;36m0\u001b[0m\u001b[0;34m,\u001b[0m \u001b[0maxis2\u001b[0m\u001b[0;34m=\u001b[0m\u001b[0;36m1\u001b[0m\u001b[0;34m)\u001b[0m\u001b[0;34m\u001b[0m\u001b[0;34m\u001b[0m\u001b[0m\n",
       "\u001b[0;31mCall signature:\u001b[0m  \u001b[0mnp\u001b[0m\u001b[0;34m.\u001b[0m\u001b[0mdiagonal\u001b[0m\u001b[0;34m(\u001b[0m\u001b[0;34m*\u001b[0m\u001b[0margs\u001b[0m\u001b[0;34m,\u001b[0m \u001b[0;34m**\u001b[0m\u001b[0mkwargs\u001b[0m\u001b[0;34m)\u001b[0m\u001b[0;34m\u001b[0m\u001b[0;34m\u001b[0m\u001b[0m\n",
       "\u001b[0;31mType:\u001b[0m            _ArrayFunctionDispatcher\n",
       "\u001b[0;31mString form:\u001b[0m     <function diagonal at 0x7b3729c832e0>\n",
       "\u001b[0;31mFile:\u001b[0m            ~/miniforge3/envs/stan/lib/python3.11/site-packages/numpy/core/fromnumeric.py\n",
       "\u001b[0;31mDocstring:\u001b[0m      \n",
       "Return specified diagonals.\n",
       "\n",
       "If `a` is 2-D, returns the diagonal of `a` with the given offset,\n",
       "i.e., the collection of elements of the form ``a[i, i+offset]``.  If\n",
       "`a` has more than two dimensions, then the axes specified by `axis1`\n",
       "and `axis2` are used to determine the 2-D sub-array whose diagonal is\n",
       "returned.  The shape of the resulting array can be determined by\n",
       "removing `axis1` and `axis2` and appending an index to the right equal\n",
       "to the size of the resulting diagonals.\n",
       "\n",
       "In versions of NumPy prior to 1.7, this function always returned a new,\n",
       "independent array containing a copy of the values in the diagonal.\n",
       "\n",
       "In NumPy 1.7 and 1.8, it continues to return a copy of the diagonal,\n",
       "but depending on this fact is deprecated. Writing to the resulting\n",
       "array continues to work as it used to, but a FutureWarning is issued.\n",
       "\n",
       "Starting in NumPy 1.9 it returns a read-only view on the original array.\n",
       "Attempting to write to the resulting array will produce an error.\n",
       "\n",
       "In some future release, it will return a read/write view and writing to\n",
       "the returned array will alter your original array.  The returned array\n",
       "will have the same type as the input array.\n",
       "\n",
       "If you don't write to the array returned by this function, then you can\n",
       "just ignore all of the above.\n",
       "\n",
       "If you depend on the current behavior, then we suggest copying the\n",
       "returned array explicitly, i.e., use ``np.diagonal(a).copy()`` instead\n",
       "of just ``np.diagonal(a)``. This will work with both past and future\n",
       "versions of NumPy.\n",
       "\n",
       "Parameters\n",
       "----------\n",
       "a : array_like\n",
       "    Array from which the diagonals are taken.\n",
       "offset : int, optional\n",
       "    Offset of the diagonal from the main diagonal.  Can be positive or\n",
       "    negative.  Defaults to main diagonal (0).\n",
       "axis1 : int, optional\n",
       "    Axis to be used as the first axis of the 2-D sub-arrays from which\n",
       "    the diagonals should be taken.  Defaults to first axis (0).\n",
       "axis2 : int, optional\n",
       "    Axis to be used as the second axis of the 2-D sub-arrays from\n",
       "    which the diagonals should be taken. Defaults to second axis (1).\n",
       "\n",
       "Returns\n",
       "-------\n",
       "array_of_diagonals : ndarray\n",
       "    If `a` is 2-D, then a 1-D array containing the diagonal and of the\n",
       "    same type as `a` is returned unless `a` is a `matrix`, in which case\n",
       "    a 1-D array rather than a (2-D) `matrix` is returned in order to\n",
       "    maintain backward compatibility.\n",
       "\n",
       "    If ``a.ndim > 2``, then the dimensions specified by `axis1` and `axis2`\n",
       "    are removed, and a new axis inserted at the end corresponding to the\n",
       "    diagonal.\n",
       "\n",
       "Raises\n",
       "------\n",
       "ValueError\n",
       "    If the dimension of `a` is less than 2.\n",
       "\n",
       "See Also\n",
       "--------\n",
       "diag : MATLAB work-a-like for 1-D and 2-D arrays.\n",
       "diagflat : Create diagonal arrays.\n",
       "trace : Sum along diagonals.\n",
       "\n",
       "Examples\n",
       "--------\n",
       ">>> a = np.arange(4).reshape(2,2)\n",
       ">>> a\n",
       "array([[0, 1],\n",
       "       [2, 3]])\n",
       ">>> a.diagonal()\n",
       "array([0, 3])\n",
       ">>> a.diagonal(1)\n",
       "array([1])\n",
       "\n",
       "A 3-D example:\n",
       "\n",
       ">>> a = np.arange(8).reshape(2,2,2); a\n",
       "array([[[0, 1],\n",
       "        [2, 3]],\n",
       "       [[4, 5],\n",
       "        [6, 7]]])\n",
       ">>> a.diagonal(0,  # Main diagonals of two arrays created by skipping\n",
       "...            0,  # across the outer(left)-most axis last and\n",
       "...            1)  # the \"middle\" (row) axis first.\n",
       "array([[0, 6],\n",
       "       [1, 7]])\n",
       "\n",
       "The sub-arrays whose main diagonals we just obtained; note that each\n",
       "corresponds to fixing the right-most (column) axis, and that the\n",
       "diagonals are \"packed\" in rows.\n",
       "\n",
       ">>> a[:,:,0]  # main diagonal is [0 6]\n",
       "array([[0, 2],\n",
       "       [4, 6]])\n",
       ">>> a[:,:,1]  # main diagonal is [1 7]\n",
       "array([[1, 3],\n",
       "       [5, 7]])\n",
       "\n",
       "The anti-diagonal can be obtained by reversing the order of elements\n",
       "using either `numpy.flipud` or `numpy.fliplr`.\n",
       "\n",
       ">>> a = np.arange(9).reshape(3, 3)\n",
       ">>> a\n",
       "array([[0, 1, 2],\n",
       "       [3, 4, 5],\n",
       "       [6, 7, 8]])\n",
       ">>> np.fliplr(a).diagonal()  # Horizontal flip\n",
       "array([2, 4, 6])\n",
       ">>> np.flipud(a).diagonal()  # Vertical flip\n",
       "array([6, 4, 2])\n",
       "\n",
       "Note that the order in which the diagonal is retrieved varies depending\n",
       "on the flip function.\n",
       "\u001b[0;31mClass docstring:\u001b[0m\n",
       "Class to wrap functions with checks for __array_function__ overrides.\n",
       "\n",
       "All arguments are required, and can only be passed by position.\n",
       "\n",
       "Parameters\n",
       "----------\n",
       "dispatcher : function or None\n",
       "    The dispatcher function that returns a single sequence-like object\n",
       "    of all arguments relevant.  It must have the same signature (except\n",
       "    the default values) as the actual implementation.\n",
       "    If ``None``, this is a ``like=`` dispatcher and the\n",
       "    ``_ArrayFunctionDispatcher`` must be called with ``like`` as the\n",
       "    first (additional and positional) argument.\n",
       "implementation : function\n",
       "    Function that implements the operation on NumPy arrays without\n",
       "    overrides.  Arguments passed calling the ``_ArrayFunctionDispatcher``\n",
       "    will be forwarded to this (and the ``dispatcher``) as if using\n",
       "    ``*args, **kwargs``.\n",
       "\n",
       "Attributes\n",
       "----------\n",
       "_implementation : function\n",
       "    The original implementation passed in."
      ]
     },
     "metadata": {},
     "output_type": "display_data"
    }
   ],
   "source": [
    "np.diagonal?"
   ]
  },
  {
   "cell_type": "code",
   "execution_count": 41,
   "id": "82b66d87-cf3f-455a-b543-a245afe60d56",
   "metadata": {},
   "outputs": [
    {
     "data": {
      "text/plain": [
       "array([[1, 0, 0],\n",
       "       [0, 2, 0],\n",
       "       [0, 0, 3]])"
      ]
     },
     "execution_count": 41,
     "metadata": {},
     "output_type": "execute_result"
    }
   ],
   "source": [
    "np.diag([1,2,3])"
   ]
  },
  {
   "cell_type": "code",
   "execution_count": 42,
   "id": "7fdc5e0f-f87f-4256-9768-a8a1b3c780af",
   "metadata": {},
   "outputs": [],
   "source": [
    "b = np.random.randn(100,2)"
   ]
  },
  {
   "cell_type": "code",
   "execution_count": 43,
   "id": "3e27e4fb-9928-4824-90e3-b11eaee32cbb",
   "metadata": {},
   "outputs": [
    {
     "data": {
      "text/plain": [
       "SVDResult(U=array([[ 3.18048731e-05,  6.74648048e-02, -6.41579788e-02, ...,\n",
       "        -4.70143275e-02, -1.17012062e-02,  5.72707204e-02],\n",
       "       [-1.67854420e-01,  1.70642880e-01, -1.21850722e-01, ...,\n",
       "        -1.51615802e-01,  2.00743368e-02, -1.09802273e-01],\n",
       "       [-7.00863302e-02,  1.18377452e-01,  9.84604342e-01, ...,\n",
       "        -1.72681740e-02,  1.25486957e-03, -7.25125082e-03],\n",
       "       ...,\n",
       "       [-1.04494452e-01,  1.19440600e-01, -1.73568100e-02, ...,\n",
       "         9.79733632e-01,  1.95664282e-03, -1.09753255e-02],\n",
       "       [ 2.32789965e-02, -5.98960947e-04,  1.31502367e-03, ...,\n",
       "         2.01688869e-03,  9.99525031e-01,  2.51988849e-03],\n",
       "       [-1.23784387e-01,  8.99047891e-03, -7.56209658e-03, ...,\n",
       "        -1.12822312e-02,  2.51689274e-03,  9.86617378e-01]]), S=array([9.7586975 , 8.78873925]), Vh=array([[-0.46515128, -0.8852312 ],\n",
       "       [-0.8852312 ,  0.46515128]]))"
      ]
     },
     "execution_count": 43,
     "metadata": {},
     "output_type": "execute_result"
    }
   ],
   "source": [
    "np.linalg.svd(b)"
   ]
  },
  {
   "cell_type": "markdown",
   "id": "8f89db11-2e92-46d2-884c-2c88fa9c1f82",
   "metadata": {},
   "source": [
    "$$ A = U\\Sigma V^T$$\n",
    "$$ (A^TA)^{-1} A = (V\\Sigma^T U^T U \\Sigma^T V^T)^{-1} U\\Sigma V^T    $$\n",
    "$$A^+ = (V \\Sigma^T\\Sigma V^T)^{-1} V\\Sigma^T U^T $$\n",
    "$$ A^+ = V (\\Sigma^T\\Sigma)^{-1}\\Sigma^T U^T $$\n",
    "$$ A^+ = V\\Sigma^+ U^T $$"
   ]
  },
  {
   "cell_type": "code",
   "execution_count": 45,
   "id": "926b1897-5f99-4f91-b3e8-2619e4d60b7d",
   "metadata": {},
   "outputs": [],
   "source": [
    "U = np.linalg.svd(b)[0]"
   ]
  },
  {
   "cell_type": "code",
   "execution_count": 46,
   "id": "ee3e31af-c54f-4e6e-b1ad-8645ee869eac",
   "metadata": {},
   "outputs": [
    {
     "data": {
      "text/plain": [
       "array([[ 1.00000000e+00, -1.24938610e-16,  5.63615904e-17, ...,\n",
       "         2.77555756e-17, -5.20417043e-18,  0.00000000e+00],\n",
       "       [-1.24938610e-16,  1.00000000e+00, -3.15292394e-17, ...,\n",
       "        -3.46944695e-17,  6.50521303e-18, -9.54097912e-18],\n",
       "       [ 5.63615904e-17, -3.15292394e-17,  1.00000000e+00, ...,\n",
       "        -3.46944695e-18, -1.30104261e-18,  5.20417043e-18],\n",
       "       ...,\n",
       "       [ 2.77555756e-17, -3.46944695e-17, -3.46944695e-18, ...,\n",
       "         1.00000000e+00,  4.82754810e-19, -4.24892617e-18],\n",
       "       [-5.20417043e-18,  6.50521303e-18, -1.30104261e-18, ...,\n",
       "         4.82754810e-19,  1.00000000e+00,  3.18478586e-19],\n",
       "       [ 0.00000000e+00, -9.54097912e-18,  5.20417043e-18, ...,\n",
       "        -4.24892617e-18,  3.18478586e-19,  1.00000000e+00]])"
      ]
     },
     "execution_count": 46,
     "metadata": {},
     "output_type": "execute_result"
    }
   ],
   "source": [
    "U.T @ U"
   ]
  },
  {
   "cell_type": "code",
   "execution_count": null,
   "id": "37082215-8df9-4e3e-93d9-4cadaa0b33b1",
   "metadata": {},
   "outputs": [],
   "source": [
    "$$ V(\\Sigma^T\\Sigma)^{-1}\\Sigma^TU^T b = x $$\n",
    "$$ (\\Sigma^T\\Sigma)^{-1}\\Sigma^T U^T b  = V^T x$$\n",
    "$$ (\\Sigma^T U^T b) = (\\Sigma^T\\Sigma) (V^T x)$$\n",
    "\n",
    "`V @ np.linalg.solve(S^T @ S, U.T @ b) "
   ]
  }
 ],
 "metadata": {
  "kernelspec": {
   "display_name": "Python 3 (ipykernel)",
   "language": "python",
   "name": "python3"
  },
  "language_info": {
   "codemirror_mode": {
    "name": "ipython",
    "version": 3
   },
   "file_extension": ".py",
   "mimetype": "text/x-python",
   "name": "python",
   "nbconvert_exporter": "python",
   "pygments_lexer": "ipython3",
   "version": "3.11.6"
  }
 },
 "nbformat": 4,
 "nbformat_minor": 5
}
